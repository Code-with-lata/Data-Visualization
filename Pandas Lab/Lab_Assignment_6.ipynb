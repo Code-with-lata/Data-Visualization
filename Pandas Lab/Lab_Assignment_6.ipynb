{
 "cells": [
  {
   "cell_type": "code",
   "execution_count": 2,
   "metadata": {},
   "outputs": [
    {
     "name": "stdout",
     "output_type": "stream",
     "text": [
      "Alice      92\n",
      "Bob        88\n",
      "Charlie    76\n",
      "David      94\n",
      "Eve        82\n",
      "Frank      90\n",
      "Grace      85\n",
      "Hannah     89\n",
      "Ivy        78\n",
      "Jack       91\n",
      "Name: Exam Scores, dtype: int64\n"
     ]
    }
   ],
   "source": [
    "# Lab1: Suppose you are a teacher, and you want to analyze the exam scores of your\n",
    "# students in a particular subject. You have recorded the scores of your students for a\n",
    "# recent exam, and you want to represent this data using a Pandas Series.\n",
    "# Input:\n",
    "# students = ['Alice', 'Bob', 'Charlie', 'David', 'Eve', 'Frank', 'Grace', 'Hannah', 'Ivy', 'Jack']\n",
    "# exam_scores = [92, 88, 76, 94, 82, 90, 85, 89, 78, 91]\n",
    "\n",
    "import pandas as pd\n",
    "\n",
    "students = ['Alice', 'Bob', 'Charlie', 'David', 'Eve', 'Frank', 'Grace', 'Hannah', 'Ivy', 'Jack']\n",
    "exam_scores = [92, 88, 76, 94, 82, 90, 85, 89, 78, 91]\n",
    "\n",
    "series=pd.Series(exam_scores,index=students, name= \"Exam Scores\")\n",
    "print(series)\n"
   ]
  },
  {
   "cell_type": "code",
   "execution_count": 3,
   "metadata": {},
   "outputs": [
    {
     "name": "stdout",
     "output_type": "stream",
     "text": [
      "Groceries          500\n",
      "Utilities          200\n",
      "Rent              1200\n",
      "Transportation     300\n",
      "Entertainment      150\n",
      "Name: Monthly expenses(USD), dtype: int64\n"
     ]
    }
   ],
   "source": [
    "# Lab2: Suppose you want to track and analyze your household expenses for a month.\n",
    "# You have recorded the expenses for various categories, such as groceries, utilities, rent,\n",
    "# transportation, and entertainment. You can represent this expense data using a Pandas\n",
    "# Series.\n",
    "# Input:\n",
    "# # Expense categories\n",
    "# categories = ['Groceries', 'Utilities', 'Rent', 'Transportation', 'Entertainment']\n",
    "# # Monthly expense data (example data in USD)\n",
    "# expenses = [500, 200, 1200, 300, 150]\n",
    "\n",
    "import pandas as pd\n",
    "\n",
    "categories = ['Groceries', 'Utilities', 'Rent', 'Transportation', 'Entertainment']\n",
    "\n",
    "expenses = [500, 200, 1200, 300, 150]\n",
    "\n",
    "series = pd.Series(expenses,index=categories,name= \"Monthly expenses(USD)\")\n",
    "\n",
    "print(series)\n"
   ]
  },
  {
   "cell_type": "code",
   "execution_count": 4,
   "metadata": {},
   "outputs": [
    {
     "name": "stdout",
     "output_type": "stream",
     "text": [
      "Electricity Usage :\n",
      "January      350\n",
      "February     320\n",
      "March        310\n",
      "April        330\n",
      "May          340\n",
      "June         370\n",
      "July         380\n",
      "August       360\n",
      "September    350\n",
      "October      330\n",
      "November     320\n",
      "December     330\n",
      "Name: Electricity Usage(kWh), dtype: int64\n",
      "\n",
      "Gas Usage: \n",
      "January      20\n",
      "February     18\n",
      "March        16\n",
      "April        15\n",
      "May          12\n",
      "June         10\n",
      "July          8\n",
      "August        9\n",
      "September    12\n",
      "October      15\n",
      "November     17\n",
      "December     19\n",
      "Name: Gas Usage(therms), dtype: int64\n"
     ]
    }
   ],
   "source": [
    "# Lab3: Suppose you want to track and analyze the monthly energy consumption in your\n",
    "# home. You have recorded the monthly energy usage for electricity and gas over a year,\n",
    "# and you want to represent this data using Pandas Series.\n",
    "# Input:\n",
    "# # Months in a year\n",
    "# months = ['January', 'February', 'March', 'April', 'May', 'June', 'July', 'August',\n",
    "# 'September', 'October', 'November', 'December']\n",
    "# # Monthly energy consumption data (example data in kilowatt-hours for electricity and\n",
    "# therms for gas)\n",
    "# electricity_usage = [350, 320, 310, 330, 340, 370, 380, 360, 350, 330, 320, 330]\n",
    "# gas_usage = [20, 18, 16, 15, 12, 10, 8, 9, 12, 15, 17, 19]\n",
    "\n",
    "import pandas as pd \n",
    "\n",
    "months = ['January', 'February', 'March', 'April', 'May', 'June', 'July', 'August',\n",
    "'September', 'October', 'November', 'December']\n",
    "\n",
    "electricity_usage = [350, 320, 310, 330, 340, 370, 380, 360, 350, 330, 320, 330]\n",
    "gas_usage = [20, 18, 16, 15, 12, 10, 8, 9, 12, 15, 17, 19]\n",
    "\n",
    "print(\"Electricity Usage :\")\n",
    "series = pd.Series(electricity_usage,index=months,name='Electricity Usage(kWh)')\n",
    "print(series)\n",
    "\n",
    "print(\"\\nGas Usage: \")\n",
    "series = pd.Series(gas_usage,index=months,name='Gas Usage(therms)')\n",
    "print(series)\n"
   ]
  },
  {
   "cell_type": "code",
   "execution_count": 5,
   "metadata": {},
   "outputs": [
    {
     "name": "stdout",
     "output_type": "stream",
     "text": [
      "January      5000\n",
      "February     5200\n",
      "March        4800\n",
      "April        5400\n",
      "May          5600\n",
      "June         5800\n",
      "July         6100\n",
      "August       5900\n",
      "September    6200\n",
      "October      6500\n",
      "November     7000\n",
      "December     6900\n",
      "Name: Monthly Advertising Revenue (USD), dtype: int64\n"
     ]
    }
   ],
   "source": [
    "# Lab4:Suppose you are managing a website and want to analyze the monthly revenue\n",
    "# generated from advertising. You have recorded the monthly revenue for the past year,\n",
    "# and you want to represent this data using a Pandas Series.\n",
    "# Input:\n",
    "# # Months in a year\n",
    "# months = ['January', 'February', 'March', 'April', 'May', 'June', 'July', 'August',\n",
    "# 'September', 'October', 'November', 'December']\n",
    "# # Monthly advertising revenue data (example data in USD)\n",
    "# revenue = [5000, 5200, 4800, 5400, 5600, 5800, 6100, 5900, 6200, 6500, 7000, 6900]\n",
    "\n",
    "import pandas as pd\n",
    "\n",
    "months = ['January', 'February', 'March', 'April', 'May', 'June', 'July', 'August',\n",
    "'September', 'October', 'November', 'December']\n",
    "\n",
    "revenue = [5000, 5200, 4800, 5400, 5600, 5800, 6100, 5900, 6200, 6500, 7000, 6900]\n",
    "\n",
    "series = pd.Series(revenue,index=months,name='Monthly Advertising Revenue (USD)')\n",
    "print(series)\n",
    "\n",
    "\n"
   ]
  },
  {
   "cell_type": "code",
   "execution_count": null,
   "metadata": {},
   "outputs": [],
   "source": [
    "print(------------------------------------------------------------------)"
   ]
  },
  {
   "cell_type": "code",
   "execution_count": 2,
   "metadata": {},
   "outputs": [
    {
     "name": "stdout",
     "output_type": "stream",
     "text": [
      "Original Orders DataFrame:\n",
      "      ord_no  purch_amt    ord_date  customer_id  salesman_id\n",
      "0   70001.0     150.50  2012-10-05         3002       5002.0\n",
      "1       NaN     270.65  2012-09-10         3001       5003.0\n",
      "2   70002.0      65.26         NaN         3001       5001.0\n",
      "3   70004.0     110.50  2012-08-17         3003          NaN\n",
      "4       NaN     948.50  2012-09-10         3002       5002.0\n",
      "5   70005.0    2400.60  2012-07-27         3001       5001.0\n",
      "6       NaN    5760.00  2012-09-10         3001       5001.0\n",
      "7   70010.0    1983.43  2012-10-10         3004          NaN\n",
      "8   70003.0    2480.40  2012-10-10         3003       5003.0\n",
      "9   70012.0     250.45  2012-06-27         3002       5002.0\n",
      "10      NaN      75.29  2012-08-17         3001       5003.0\n",
      "11  70013.0    3045.60  2012-04-25         3001          NaN\n",
      "\n",
      "Missing values of the said dataframe:\n"
     ]
    },
    {
     "data": {
      "text/plain": [
       "ord_no         4\n",
       "purch_amt      0\n",
       "ord_date       1\n",
       "customer_id    0\n",
       "salesman_id    3\n",
       "dtype: int64"
      ]
     },
     "execution_count": 2,
     "metadata": {},
     "output_type": "execute_result"
    }
   ],
   "source": [
    "# Lab1: Write a Pandas program to detect missing values of a given DataFrame.\n",
    "\n",
    "import pandas as pd\n",
    "import numpy as np\n",
    "\n",
    "df = pd.DataFrame({\n",
    "'ord_no':[70001,np.nan,70002,70004,np.nan,70005,np.nan,70010,70003,70012,np.nan,70013],\n",
    "'purch_amt':[150.5,270.65,65.26,110.5,948.5,2400.6,5760,1983.43,2480.4,250.45,\n",
    "75.29,3045.6], 'ord_date':\n",
    "['2012-10-05','2012-09-10',np.nan,'2012-08-17','2012-09-10','2012-07-27','2012-09-10'\n",
    ",'2012-10-10','2012-10-10','2012-06-27','2012-08-17','2012-04-25'],\n",
    "'customer_id':[3002,3001,3001,3003,3002,3001,3001,3004,3003,3002,3001,3001],\n",
    "'salesman_id':[5002,5003,5001,np.nan,5002,5001,5001,np.nan,5003,5002,5003,np.nan]})\n",
    "\n",
    "print(\"Original Orders DataFrame:\\n\",df)\n",
    "\n",
    "print(\"\\nMissing values of the said dataframe:\")\n",
    "df = df.isna().sum()\n",
    "df\n"
   ]
  },
  {
   "cell_type": "code",
   "execution_count": 7,
   "metadata": {},
   "outputs": [
    {
     "name": "stdout",
     "output_type": "stream",
     "text": [
      "Original Orders DataFrame:\n",
      "      ord_no  purch_amt    ord_date  customer_id  salesman_id\n",
      "0   70001.0     150.50  2012-10-05         3002       5002.0\n",
      "1       NaN     270.65  2012-09-10         3001       5003.0\n",
      "2   70002.0      65.26         NaN         3001       5001.0\n",
      "3   70004.0     110.50  2012-08-17         3003          NaN\n",
      "4       NaN     948.50  2012-09-10         3002       5002.0\n",
      "5   70005.0    2400.60  2012-07-27         3001       5001.0\n",
      "6       NaN    5760.00  2012-09-10         3001       5001.0\n",
      "7   70010.0    1983.43  2012-10-10         3004          NaN\n",
      "8   70003.0    2480.40  2012-10-10         3003       5003.0\n",
      "9   70012.0     250.45  2012-06-27         3002       5002.0\n",
      "10      NaN      75.29  2012-08-17         3001       5003.0\n",
      "11  70013.0    3045.60  2012-04-25         3001          NaN\n",
      "\n",
      "Drop the rows where at least one element is missing:\n",
      "     ord_no  purch_amt    ord_date  customer_id  salesman_id\n",
      "0  70001.0     150.50  2012-10-05         3002       5002.0\n",
      "5  70005.0    2400.60  2012-07-27         3001       5001.0\n",
      "8  70003.0    2480.40  2012-10-10         3003       5003.0\n",
      "9  70012.0     250.45  2012-06-27         3002       5002.0\n"
     ]
    }
   ],
   "source": [
    "# Lab2: Write a Pandas program to drop the rows where at least one element is\n",
    "# missing in a given DataFrame.\n",
    "\n",
    "import pandas as pd\n",
    "\n",
    "df = pd.DataFrame({\n",
    "'ord_no':[70001,np.nan,70002,70004,np.nan,70005,np.nan,70010,70003,70012,np.nan,70013],\n",
    "'purch_amt':[150.5,270.65,65.26,110.5,948.5,2400.6,5760,1983.43,2480.4,250.45,\n",
    "75.29,3045.6],\n",
    "'ord_date':['2012-10-05','2012-09-10',np.nan,'2012-08-17','2012-09-10','2012-07-27','2012-09-10'\n",
    ",'2012-10-10','2012-10-10','2012-06-27','2012-08-17','2012-04-25'],\n",
    "'customer_id':[3002,3001,3001,3003,3002,3001,3001,3004,3003,3002,3001,3001],\n",
    "'salesman_id':[5002,5003,5001,np.nan,5002,5001,5001,np.nan,5003,5002,5003,np.nan]})\n",
    "\n",
    "print('Original Orders DataFrame:\\n', df)\n",
    "\n",
    "print('\\nDrop the rows where at least one element is missing:\\n',df.dropna())\n",
    "\n"
   ]
  },
  {
   "cell_type": "code",
   "execution_count": 11,
   "metadata": {},
   "outputs": [
    {
     "name": "stdout",
     "output_type": "stream",
     "text": [
      "Original Order DtaaFrame:\n",
      "      ord_no  purch_amt    ord_date  customer_id\n",
      "0       NaN        NaN         NaN          NaN\n",
      "1       NaN     270.65  2012-09-10       3001.0\n",
      "2   70002.0      65.26         NaN       3001.0\n",
      "3   70004.0     110.50  2012-08-17       3003.0\n",
      "4       NaN     948.50  2012-09-10       3002.0\n",
      "5   70005.0    2400.60  2012-07-27       3001.0\n",
      "6       NaN    5760.00  2012-09-10       3001.0\n",
      "7   70010.0    1983.43     2-10-10       3004.0\n",
      "8   70003.0    2480.40  2012-10-10       3003.0\n",
      "9   70012.0     250.45  2012-06-27       3002.0\n",
      "10      NaN      75.29  2012-08-17       3001.0\n",
      "11  70013.0    3045.60  2012-04-25       3001.0\n",
      "\n",
      "Drop the rows where all elements are missing:\n",
      "      ord_no  purch_amt    ord_date  customer_id\n",
      "1       NaN     270.65  2012-09-10       3001.0\n",
      "2   70002.0      65.26         NaN       3001.0\n",
      "3   70004.0     110.50  2012-08-17       3003.0\n",
      "4       NaN     948.50  2012-09-10       3002.0\n",
      "5   70005.0    2400.60  2012-07-27       3001.0\n",
      "6       NaN    5760.00  2012-09-10       3001.0\n",
      "7   70010.0    1983.43     2-10-10       3004.0\n",
      "8   70003.0    2480.40  2012-10-10       3003.0\n",
      "9   70012.0     250.45  2012-06-27       3002.0\n",
      "10      NaN      75.29  2012-08-17       3001.0\n",
      "11  70013.0    3045.60  2012-04-25       3001.0\n"
     ]
    }
   ],
   "source": [
    "# Lab3: Write a Pandas program to drop the rows where all elements are missing in\n",
    "# a given DataFrame.\n",
    "\n",
    "import pandas as pd\n",
    "\n",
    "df = pd.DataFrame({\n",
    "'ord_no':[np.nan,np.nan,70002,70004,np.nan,70005,np.nan,70010,70003,70012,np.nan,70013],\n",
    "'purch_amt':[np.nan,270.65,65.26,110.5,948.5,2400.6,5760,1983.43,2480.4,250.45,\n",
    "75.29,3045.6],\n",
    "'ord_date':[np.nan,'2012-09-10',np.nan,'2012-08-17','2012-09-10','2012-07-27','2012-09-10','2-10-10','2012-10-10','2012-06-27','2012-08-17','2012-04-25'],\n",
    "'customer_id':[np.nan,3001,3001,3003,3002,3001,3001,3004,3003,3002,3001,3001]})\n",
    "\n",
    "print('Original Order DtaaFrame:\\n',df)\n",
    "\n",
    "print(\"\\nDrop the rows where all elements are missing:\\n\",df.dropna(how='all'))"
   ]
  },
  {
   "cell_type": "code",
   "execution_count": 16,
   "metadata": {},
   "outputs": [
    {
     "name": "stdout",
     "output_type": "stream",
     "text": [
      "Original Order DataFrame:\n",
      "      ord_no  purch_amt    ord_date  customer_id\n",
      "0       NaN        NaN         NaN          NaN\n",
      "1       NaN     270.65  2012-09-10       3001.0\n",
      "2   70002.0      65.26         NaN       3001.0\n",
      "3       NaN        NaN         NaN          NaN\n",
      "4       NaN     948.50  2012-09-10       3002.0\n",
      "5   70005.0    2400.60  2012-07-27       3001.0\n",
      "6       NaN    5760.00  2012-09-10       3001.0\n",
      "7   70010.0    1983.43  2012-10-10       3004.0\n",
      "8   70003.0    2480.40  2012-10-10       3003.0\n",
      "9   70012.0     250.45  2012-06-27       3002.0\n",
      "10      NaN      75.29  2012-08-17       3001.0\n",
      "11      NaN        NaN         NaN          NaN\n",
      "\n",
      "Drop those rows in which specific columns have missing values:\n",
      "     ord_no  purch_amt    ord_date  customer_id\n",
      "2  70002.0      65.26         NaN       3001.0\n",
      "5  70005.0    2400.60  2012-07-27       3001.0\n",
      "7  70010.0    1983.43  2012-10-10       3004.0\n",
      "8  70003.0    2480.40  2012-10-10       3003.0\n",
      "9  70012.0     250.45  2012-06-27       3002.0\n"
     ]
    }
   ],
   "source": [
    "# Lab4: Write a Pandas program to drop those rows from a given DataFrame in\n",
    "# which specific columns have missing values.\n",
    "\n",
    "import pandas as pd\n",
    "\n",
    "df = pd.DataFrame({\n",
    "'ord_no':[np.nan,np.nan,70002,np.nan,np.nan,70005,np.nan,70010,70003,70012,np.nan,np.nan],\n",
    "'purch_amt':[np.nan,270.65,65.26,np.nan,948.5,2400.6,5760,1983.43,2480.4,250.45,\n",
    "75.29,np.nan],\n",
    "'ord_date':[np.nan,'2012-09-10',np.nan,np.nan,'2012-09-10','2012-07-27','2012-09-10','2012-10-10',\n",
    "'2012-10-10','2012-06-27','2012-08-17',np.nan],\n",
    "'customer_id':[np.nan,3001,3001,np.nan,3002,3001,3001,3004,3003,3002,3001,np.nan]})\n",
    "\n",
    "print('Original Order DataFrame:\\n',df)\n",
    "\n",
    "print('\\nDrop those rows in which specific columns have missing values:\\n',df.dropna(subset='ord_no'))\n"
   ]
  },
  {
   "cell_type": "code",
   "execution_count": null,
   "metadata": {},
   "outputs": [],
   "source": [
    "--------------------------------------------------------------------------------"
   ]
  },
  {
   "cell_type": "code",
   "execution_count": 14,
   "metadata": {},
   "outputs": [
    {
     "name": "stdout",
     "output_type": "stream",
     "text": [
      "Original DataFrame:\n",
      "   school_code class            name  age  height  weight  address\n",
      "0        s001     V  Alberto Franco   12     173      35  street1\n",
      "1        s002    VI    Gino Mcneill   12     192      32  street2\n",
      "2        s003    VI     Ryan Parkes   13     186      33  street3\n",
      "3        s001    VI    Eesha Hinton   13     167      30  street1\n",
      "4        s002     V    Gino Mcneill   14     151      31  street2\n",
      "5        s004    VI    David Parkes   12     159      32  street4\n",
      "\n",
      "Class wise No of student Count:\n",
      " class\n",
      "VI    4\n",
      "V     2\n",
      "Name: count, dtype: int64\n"
     ]
    },
    {
     "data": {
      "text/plain": [
       "<Axes: xlabel='class'>"
      ]
     },
     "execution_count": 14,
     "metadata": {},
     "output_type": "execute_result"
    },
    {
     "data": {
      "image/png": "[encoded data removed]",
      "text/plain": [
       "<Figure size 640x480 with 1 Axes>"
      ]
     },
     "metadata": {},
     "output_type": "display_data"
    }
   ],
   "source": [
    "# Lab1: Write a Pandas program to split the following data frame into groups based\n",
    "# on Class and count the number of students in that particular class.Also generate\n",
    "# a bar chart based on the result and explain the conclusion.\n",
    "\n",
    "import pandas as pd\n",
    "\n",
    "student_data = pd.DataFrame({\n",
    "'school_code': ['s001','s002','s003','s001','s002','s004'],\n",
    "'class': ['V', 'VI', 'VI', 'VI', 'V', 'VI'],\n",
    "'name': ['Alberto Franco','Gino Mcneill','Ryan Parkes', 'Eesha Hinton', 'Gino Mcneill',\n",
    "'David Parkes'],\n",
    "'age': [12, 12, 13, 13, 14, 12],\n",
    "'height': [173, 192, 186, 167, 151, 159],\n",
    "'weight': [35, 32, 33, 30, 31, 32],\n",
    "'address': ['street1', 'street2', 'street3', 'street1', 'street2', 'street4']},\n",
    ")\n",
    "\n",
    "print(\"Original DataFrame:\\n\",student_data)\n",
    "df = student_data\n",
    "print(\"\\nClass wise No of student Count:\\n\",df.value_counts('class'))\n",
    "\n",
    "df.value_counts('class').plot(kind='bar')\n"
   ]
  },
  {
   "cell_type": "code",
   "execution_count": 15,
   "metadata": {},
   "outputs": [
    {
     "name": "stdout",
     "output_type": "stream",
     "text": [
      "Original DataFrame:\n",
      "   school_code class            name  age  height  weight  address\n",
      "0        s001     V  Alberto Franco   12     173      35  street1\n",
      "1        s002     V    Gino Mcneill   12     192      32  street2\n",
      "2        s003    VI     Ryan Parkes   13     186      33  street3\n",
      "3        s001    VI    Eesha Hinton   13     167      30  street1\n",
      "4        s002     V    Gino Mcneill   14     151      31  street2\n",
      "5        s004    VI    David Parkes   12     159      32  street4\n",
      "\n",
      "Mean, min, and max value of age for each value of the school:\n",
      "               age        \n",
      "             mean min max\n",
      "school_code              \n",
      "s001         12.5  12  13\n",
      "s002         13.0  12  14\n",
      "s003         13.0  13  13\n",
      "s004         12.0  12  12\n"
     ]
    },
    {
     "data": {
      "text/plain": [
       "<Axes: ylabel='school_code'>"
      ]
     },
     "execution_count": 15,
     "metadata": {},
     "output_type": "execute_result"
    },
    {
     "data": {
      "image/png": "[encoded data removed]",
      "text/plain": [
       "<Figure size 640x480 with 1 Axes>"
      ]
     },
     "metadata": {},
     "output_type": "display_data"
    }
   ],
   "source": [
    "# Lab2: Write a Pandas program to split the following dataframe by school\n",
    "# code and get mean, min, and max value of age for each school.\n",
    "# Also generate a horizontal bar chart based on the result and explain the\n",
    "# conclusion.\n",
    "\n",
    "import pandas as pd\n",
    "\n",
    "student_data = pd.DataFrame({\n",
    "'school_code': ['s001','s002','s003','s001','s002','s004'],\n",
    "'class': ['V', 'V', 'VI', 'VI', 'V', 'VI'],\n",
    "'name': ['Alberto Franco','Gino Mcneill','Ryan Parkes', 'Eesha Hinton', 'Gino Mcneill',\n",
    "'David Parkes'],\n",
    "'age': [12, 12, 13, 13, 14, 12],\n",
    "'height': [173, 192, 186, 167, 151, 159],\n",
    "'weight': [35, 32, 33, 30, 31, 32],\n",
    "'address': ['street1', 'street2', 'street3', 'street1', 'street2', 'street4']},\n",
    ")\n",
    "df = student_data\n",
    "print('Original DataFrame:\\n',df)\n",
    "\n",
    "x=(df[['age']].groupby(df['school_code']).agg(['mean', 'min','max']))\n",
    "print('\\nMean, min, and max value of age for each value of the school:\\n',x)\n",
    "\n",
    "x.plot(kind='barh')"
   ]
  },
  {
   "cell_type": "code",
   "execution_count": 1,
   "metadata": {},
   "outputs": [
    {
     "name": "stdout",
     "output_type": "stream",
     "text": [
      "Original Orders DataFrame:\n",
      "     ord_no  purch_amt    ord_date  customer_id  salesman_id\n",
      "0    70001     150.50  2012-10-05         3005         5002\n",
      "1    70009     270.65  2012-09-10         3001         5005\n",
      "2    70002      65.26  2012-10-05         3002         5001\n",
      "3    70004     110.50  2012-08-17         3009         5003\n",
      "4    70007     948.50  2012-09-10         3005         5002\n",
      "5    70005    2400.60  2012-07-27         3007         5001\n",
      "6    70008    5760.00  2012-09-10         3002         5001\n",
      "7    70010    1983.43  2012-10-10         3004         5006\n",
      "8    70003    2480.40  2012-10-10         3009         5003\n",
      "9    70012     250.45  2012-06-27         3008         5002\n",
      "10   70011      75.29  2012-08-17         3003         5007\n",
      "11   70013    3045.60  2012-04-25         3002         5001\n",
      "\n",
      "Mean, min,and max values of purchase amount(purch_amt) group by customer id (customer_id)\n",
      ":                purch_amt                  \n",
      "                    mean      min      max\n",
      "customer_id                               \n",
      "3001          270.650000   270.65   270.65\n",
      "3002         2956.953333    65.26  5760.00\n",
      "3003           75.290000    75.29    75.29\n",
      "3004         1983.430000  1983.43  1983.43\n",
      "3005          549.500000   150.50   948.50\n",
      "3007         2400.600000  2400.60  2400.60\n",
      "3008          250.450000   250.45   250.45\n",
      "3009         1295.450000   110.50  2480.40\n"
     ]
    },
    {
     "data": {
      "text/plain": [
       "<Axes: xlabel='customer_id'>"
      ]
     },
     "execution_count": 1,
     "metadata": {},
     "output_type": "execute_result"
    },
    {
     "data": {
      "image/png": "[encoded data removed]",
      "text/plain": [
       "<Figure size 640x480 with 1 Axes>"
      ]
     },
     "metadata": {},
     "output_type": "display_data"
    }
   ],
   "source": [
    "# Lab3: Write a Pandas program to split a dataset, group by one column and\n",
    "# get mean, min, and max values by group. Using the following dataset find\n",
    "# the mean, min, and max values of purchase amount (purch_amt) group by\n",
    "# customer id (customer_id).Also generate a line chart based on the result and\n",
    "# explain the conclusion.\n",
    "\n",
    "import pandas as pd\n",
    "\n",
    "orders_data = pd.DataFrame({\n",
    "'ord_no':[70001,70009,70002,70004,70007,70005,70008,70010,70003,70012,70011,70013],\n",
    "'purch_amt':[150.5,270.65,65.26,110.5,948.5,2400.6,5760,1983.43,2480.4,250.45,\n",
    "75.29,3045.6],\n",
    "'ord_date':['2012-10-05','2012-09-10','2012-10-05','2012-08-17','2012-09-10','2012-07-27','2012-09-10',\n",
    "'2012-10-10','2012-10-10','2012-06-27','2012-08-17','2012-04-25'],\n",
    "'customer_id':[3005,3001,3002,3009,3005,3007,3002,3004,3009,3008,3003,3002],\n",
    "'salesman_id': [5002,5005,5001,5003,5002,5001,5001,5006,5003,5002,5007,5001]})\n",
    "\n",
    "df = orders_data\n",
    "print('Original Orders DataFrame:\\n',df)\n",
    "\n",
    "x=(df[['purch_amt']].groupby(df['customer_id']).agg(['mean', 'min','max']))\n",
    "print('\\nMean, min,and max values of purchase amount(purch_amt) group by customer id (customer_id)\\n:',x)\n",
    "\n",
    "x.plot(kind='bar')\n",
    "\n"
   ]
  },
  {
   "cell_type": "code",
   "execution_count": 5,
   "metadata": {},
   "outputs": [
    {
     "name": "stdout",
     "output_type": "stream",
     "text": [
      "Original Order DataFrame:\n",
      "     ord_no  purch_amt    ord_date  customer_id  salesman_id\n",
      "0    70001     150.50  05-10-2012         3005         5002\n",
      "1    70009     270.65  09-10-2012         3001         5005\n",
      "2    70002      65.26  05-10-2012         3002         5001\n",
      "3    70004     110.50  08-17-2012         3009         5003\n",
      "4    70007     948.50  10-09-2012         3005         5002\n",
      "5    70005    2400.60  07-27-2012         3007         5001\n",
      "6    70008    5760.00  10-09-2012         3002         5001\n",
      "7    70010    1983.43  10-10-2012         3004         5006\n",
      "8    70003    2480.40  10-10-2012         3009         5003\n",
      "9    70012     250.45  06-17-2012         3008         5002\n",
      "10   70011      75.29  07-08-2012         3003         5007\n",
      "11   70013    3045.60  04-25-2012         3002         5001\n",
      "\n",
      "Month wise purchase amount:\n",
      "             purch_amt\n",
      "ord_date             \n",
      "04-25-2012    3045.60\n",
      "05-10-2012     215.76\n",
      "06-17-2012     250.45\n",
      "07-08-2012      75.29\n",
      "07-27-2012    2400.60\n",
      "08-17-2012     110.50\n",
      "09-10-2012     270.65\n",
      "10-09-2012    6708.50\n",
      "10-10-2012    4463.83\n"
     ]
    },
    {
     "data": {
      "text/plain": [
       "<Axes: xlabel='ord_date'>"
      ]
     },
     "execution_count": 5,
     "metadata": {},
     "output_type": "execute_result"
    },
    {
     "data": {
      "image/png": "[encoded data removed]",
      "text/plain": [
       "<Figure size 640x480 with 1 Axes>"
      ]
     },
     "metadata": {},
     "output_type": "display_data"
    }
   ],
   "source": [
    "# Lab4: Write a Pandas program to split the following data frame into groups\n",
    "# and calculate monthly purchase amount.Also generate a bar chart based on\n",
    "# the result and explain the conclusion.\n",
    "\n",
    "import pandas as pd\n",
    "\n",
    "df = pd.DataFrame({\n",
    "'ord_no':[70001,70009,70002,70004,70007,70005,70008,70010,70003,70012,70011,70013],\n",
    "'purch_amt':[150.5,270.65,65.26,110.5,948.5,2400.6,5760,1983.43,2480.4,250.45,75.29,3045.6],\n",
    "'ord_date':['05-10-2012','09-10-2012','05-10-2012','08-17-2012','10-09-2012','07-27-2012',\n",
    "'10-09-2012','10-10-2012','10-10-2012','06-17-2012','07-08-2012','04-25-2012'],\n",
    "'customer_id':[3005,3001,3002,3009,3005,3007,3002,3004,3009,3008,3003,3002],\n",
    "'salesman_id': [5002,5005,5001,5003,5002,5001,5001,5006,5003,5002,5007,5001]})\n",
    "\n",
    "print(\"Original Order DataFrame:\\n\",df)\n",
    "\n",
    "x=df[['purch_amt']].groupby([df['ord_date']]).sum()\n",
    "print(\"\\nMonth wise purchase amount:\\n\",x)\n",
    "\n",
    "x.plot(kind='line')\n",
    "\n"
   ]
  }
 ],
 "metadata": {
  "kernelspec": {
   "display_name": "Python 3",
   "language": "python",
   "name": "python3"
  },
  "language_info": {
   "codemirror_mode": {
    "name": "ipython",
    "version": 3
   },
   "file_extension": ".py",
   "mimetype": "text/x-python",
   "name": "python",
   "nbconvert_exporter": "python",
   "pygments_lexer": "ipython3",
   "version": "3.12.3"
  }
 },
 "nbformat": 4,
 "nbformat_minor": 2
}
