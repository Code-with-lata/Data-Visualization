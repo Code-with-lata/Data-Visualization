{
 "cells": [
  {
   "cell_type": "code",
   "execution_count": 2,
   "metadata": {},
   "outputs": [
    {
     "name": "stdout",
     "output_type": "stream",
     "text": [
      "Alice      92\n",
      "Bob        88\n",
      "Charlie    76\n",
      "David      94\n",
      "Eve        82\n",
      "Frank      90\n",
      "Grace      85\n",
      "Hannah     89\n",
      "Ivy        78\n",
      "Jack       91\n",
      "Name: Exam Scores, dtype: int64\n"
     ]
    }
   ],
   "source": [
    "# Lab1: Suppose you are a teacher, and you want to analyze the exam scores of your\n",
    "# students in a particular subject. You have recorded the scores of your students for a\n",
    "# recent exam, and you want to represent this data using a Pandas Series.\n",
    "# Input:\n",
    "# students = ['Alice', 'Bob', 'Charlie', 'David', 'Eve', 'Frank', 'Grace', 'Hannah', 'Ivy', 'Jack']\n",
    "# exam_scores = [92, 88, 76, 94, 82, 90, 85, 89, 78, 91]\n",
    "\n",
    "import pandas as pd\n",
    "\n",
    "students = ['Alice', 'Bob', 'Charlie', 'David', 'Eve', 'Frank', 'Grace', 'Hannah', 'Ivy', 'Jack']\n",
    "exam_scores = [92, 88, 76, 94, 82, 90, 85, 89, 78, 91]\n",
    "\n",
    "series=pd.Series(exam_scores,index=students, name= \"Exam Scores\")\n",
    "print(series)\n"
   ]
  },
  {
   "cell_type": "code",
   "execution_count": 3,
   "metadata": {},
   "outputs": [
    {
     "name": "stdout",
     "output_type": "stream",
     "text": [
      "Groceries          500\n",
      "Utilities          200\n",
      "Rent              1200\n",
      "Transportation     300\n",
      "Entertainment      150\n",
      "Name: Monthly expenses(USD), dtype: int64\n"
     ]
    }
   ],
   "source": [
    "# Lab2: Suppose you want to track and analyze your household expenses for a month.\n",
    "# You have recorded the expenses for various categories, such as groceries, utilities, rent,\n",
    "# transportation, and entertainment. You can represent this expense data using a Pandas\n",
    "# Series.\n",
    "# Input:\n",
    "# # Expense categories\n",
    "# categories = ['Groceries', 'Utilities', 'Rent', 'Transportation', 'Entertainment']\n",
    "# # Monthly expense data (example data in USD)\n",
    "# expenses = [500, 200, 1200, 300, 150]\n",
    "\n",
    "import pandas as pd\n",
    "\n",
    "categories = ['Groceries', 'Utilities', 'Rent', 'Transportation', 'Entertainment']\n",
    "\n",
    "expenses = [500, 200, 1200, 300, 150]\n",
    "\n",
    "series = pd.Series(expenses,index=categories,name= \"Monthly expenses(USD)\")\n",
    "\n",
    "print(series)\n"
   ]
  }
 ],
 "metadata": {
  "kernelspec": {
   "display_name": "Python 3",
   "language": "python",
   "name": "python3"
  },
  "language_info": {
   "codemirror_mode": {
    "name": "ipython",
    "version": 3
   },
   "file_extension": ".py",
   "mimetype": "text/x-python",
   "name": "python",
   "nbconvert_exporter": "python",
   "pygments_lexer": "ipython3",
   "version": "3.12.3"
  }
 },
 "nbformat": 4,
 "nbformat_minor": 2
}
