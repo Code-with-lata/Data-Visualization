{
 "cells": [
  {
   "cell_type": "code",
   "execution_count": 16,
   "metadata": {},
   "outputs": [
    {
     "name": "stdout",
     "output_type": "stream",
     "text": [
      "student data : \n",
      "{'stdid': 'std101', 'math': '78', 'stdname': 'Ashish Kumar', 'age': 12}\n"
     ]
    }
   ],
   "source": [
    "student = { 'stdid' :'std101','math' : '78','stdname' : 'Ashish Kumar', 'age' : 12}\n",
    "print(\"student data : \")\n",
    "print (student)"
   ]
  },
  {
   "cell_type": "code",
   "execution_count": 17,
   "metadata": {},
   "outputs": [
    {
     "name": "stdout",
     "output_type": "stream",
     "text": [
      "stdid math stdname age\n"
     ]
    }
   ],
   "source": [
    "print(*student)"
   ]
  },
  {
   "cell_type": "code",
   "execution_count": 18,
   "metadata": {},
   "outputs": [
    {
     "name": "stdout",
     "output_type": "stream",
     "text": [
      "stdid\n",
      "math\n",
      "stdname\n",
      "age\n"
     ]
    }
   ],
   "source": [
    "for key in student:\n",
    "    print(key)"
   ]
  },
  {
   "cell_type": "code",
   "execution_count": 19,
   "metadata": {},
   "outputs": [
    {
     "name": "stdout",
     "output_type": "stream",
     "text": [
      "std101 78 Ashish Kumar 12 "
     ]
    }
   ],
   "source": [
    "#how a value of element can be access\n",
    "for key in student:\n",
    "    print(student[key], end=\" \")"
   ]
  },
  {
   "cell_type": "code",
   "execution_count": 20,
   "metadata": {},
   "outputs": [
    {
     "name": "stdout",
     "output_type": "stream",
     "text": [
      "dictionary : \n",
      " {'stdid': 'std101', 'math': '78', 'stdname': 'Ashish Kumar', 'age': 12}\n"
     ]
    }
   ],
   "source": [
    "print(\"dictionary : \\n\" , student)"
   ]
  },
  {
   "cell_type": "code",
   "execution_count": 21,
   "metadata": {},
   "outputs": [
    {
     "name": "stdout",
     "output_type": "stream",
     "text": [
      "{'stdid': 'std101', 'math': '78', 'stdname': 'Ashish Kumar'}\n"
     ]
    }
   ],
   "source": [
    "#delete the element\n",
    "del student['age']\n",
    "print(student)"
   ]
  },
  {
   "cell_type": "code",
   "execution_count": 24,
   "metadata": {},
   "outputs": [
    {
     "name": "stdout",
     "output_type": "stream",
     "text": [
      "{'hindi': 78, 'english': 56, 'standard': '10th', 'name': 'Ashish'}\n"
     ]
    }
   ],
   "source": [
    "#dictionary \n",
    "students_dict = {\"hindi\" :78,\"english\":56,\"standard\": \"10th\",\"name\":'Ashish'}\n",
    "print(students_dict)"
   ]
  },
  {
   "cell_type": "code",
   "execution_count": 25,
   "metadata": {},
   "outputs": [
    {
     "name": "stdout",
     "output_type": "stream",
     "text": [
      "dictionary :  {'hindi': 78, 'english': 56, 'standard': '10th', 'name': 'Ashish'}\n",
      "{'hindi': 78, 'standard': '10th', 'name': 'Ashish'}\n"
     ]
    }
   ],
   "source": [
    "print(\"dictionary : \", students_dict)\n",
    "students_dict.pop(\"english\")\n",
    "print(students_dict)"
   ]
  },
  {
   "cell_type": "code",
   "execution_count": 26,
   "metadata": {},
   "outputs": [
    {
     "name": "stdout",
     "output_type": "stream",
     "text": [
      "dictionary :  {'hindi': 78, 'standard': '10th', 'name': 'Ashish'}\n",
      "{'hindi': 78, 'standard': '10th'}\n"
     ]
    }
   ],
   "source": [
    "print(\"dictionary : \", students_dict)\n",
    "students_dict.popitem()\n",
    "print(students_dict)"
   ]
  },
  {
   "cell_type": "code",
   "execution_count": 28,
   "metadata": {},
   "outputs": [
    {
     "name": "stdout",
     "output_type": "stream",
     "text": [
      "The dictionary is :  {'hindi': 78, 'english': 56, 'standard': '10th', 'name': 'Ashish'}\n"
     ]
    }
   ],
   "source": [
    "studentsRecord = {\"hindi\" :78,\"english\":56,\"standard\": \"10th\",\"name\":'Ashish'}\n",
    "print(\"The dictionary is : \",studentsRecord)"
   ]
  },
  {
   "cell_type": "code",
   "execution_count": 30,
   "metadata": {},
   "outputs": [
    {
     "name": "stdout",
     "output_type": "stream",
     "text": [
      "dict_keys(['hindi', 'english', 'standard', 'name'])\n"
     ]
    }
   ],
   "source": [
    "#to fetch key of all element\n",
    "elementIndex = studentsRecord.keys()\n",
    "print(elementIndex)"
   ]
  },
  {
   "cell_type": "code",
   "execution_count": 31,
   "metadata": {},
   "outputs": [
    {
     "name": "stdout",
     "output_type": "stream",
     "text": [
      "dict_values([78, 56, '10th', 'Ashish'])\n"
     ]
    }
   ],
   "source": [
    "#To fetch only values of element of dictionary\n",
    "elementValue = studentsRecord.values()\n",
    "print(elementValue)"
   ]
  },
  {
   "cell_type": "code",
   "execution_count": 32,
   "metadata": {},
   "outputs": [
    {
     "name": "stdout",
     "output_type": "stream",
     "text": [
      "78\n",
      "56\n",
      "10th\n",
      "Ashish\n"
     ]
    }
   ],
   "source": [
    "#To fetch only values of element of dictionary\n",
    "for x in studentsRecord.values():\n",
    "    print(x)"
   ]
  },
  {
   "cell_type": "code",
   "execution_count": 33,
   "metadata": {},
   "outputs": [
    {
     "name": "stdout",
     "output_type": "stream",
     "text": [
      "dict_items([('hindi', 78), ('english', 56), ('standard', '10th'), ('name', 'Ashish')])\n"
     ]
    }
   ],
   "source": [
    "#to return a list of items from dictionary [each item is a tuple which contain key, value of each element]\n",
    "elements = studentsRecord.items()\n",
    "print(elements)"
   ]
  },
  {
   "cell_type": "code",
   "execution_count": 37,
   "metadata": {},
   "outputs": [
    {
     "name": "stdout",
     "output_type": "stream",
     "text": [
      "The dictionary is :  {'hindi': 78, 'english': 56, 'standard': '10th', 'name': 'Ashish'}\n",
      "78\n"
     ]
    }
   ],
   "source": [
    "studentsRecord = {\"hindi\" :78,\"english\":56,\"standard\": \"10th\",\"name\":'Ashish'}\n",
    "print(\"The dictionary is : \",studentsRecord)\n",
    "\n",
    "#To retrieve value of element with key hindi\n",
    "x = studentsRecord.get(\"hindi\")\n",
    "print(x)"
   ]
  },
  {
   "cell_type": "code",
   "execution_count": 38,
   "metadata": {},
   "outputs": [
    {
     "name": "stdout",
     "output_type": "stream",
     "text": [
      "Element does not exist\n"
     ]
    }
   ],
   "source": [
    "#if element is not present in a dictionary \n",
    "x = studentsRecord.get(\"computer\",\"Element does not exist\")\n",
    "print(x)"
   ]
  },
  {
   "cell_type": "code",
   "execution_count": 39,
   "metadata": {},
   "outputs": [
    {
     "name": "stdout",
     "output_type": "stream",
     "text": [
      "{}\n"
     ]
    }
   ],
   "source": [
    "#delete every element of a dictionary\n",
    "studentsRecord.clear()\n",
    "print(studentsRecord)"
   ]
  },
  {
   "cell_type": "code",
   "execution_count": 40,
   "metadata": {},
   "outputs": [
    {
     "name": "stdout",
     "output_type": "stream",
     "text": [
      "The dictionary is :  {'hindi': 78, 'english': 56, 'standard': '10th', 'name': 'Ashish'}\n",
      "4\n"
     ]
    }
   ],
   "source": [
    "studentsRecord = {\"hindi\" :78,\"english\":56,\"standard\": \"10th\",\"name\":'Ashish'}\n",
    "print(\"The dictionary is : \",studentsRecord)\n",
    "\n",
    "#find total length\n",
    "x = len(studentsRecord)\n",
    "print(x)"
   ]
  },
  {
   "cell_type": "code",
   "execution_count": 41,
   "metadata": {},
   "outputs": [
    {
     "name": "stdout",
     "output_type": "stream",
     "text": [
      "first dictionary is :  {'hindi': 78, 'english': 56, 'standard': '10th', 'name': 'Ashish'}\n",
      "----------------------------------------\n",
      "second dictionary is :  {'math': 78, 'hindi': 89, 'Roll No': 1023, 'english': 80, 'science': 79}\n",
      "--------------------------------------------\n",
      "After inserting element of second dictionary into firs : \n",
      "\n",
      "{'hindi': 89, 'english': 80, 'standard': '10th', 'name': 'Ashish', 'math': 78, 'Roll No': 1023, 'science': 79}\n"
     ]
    }
   ],
   "source": [
    "dictObj1 = {\"hindi\" :78,\"english\":56,\"standard\": \"10th\",\"name\":'Ashish'}\n",
    "print(\"first dictionary is : \",dictObj1)\n",
    "print(\"----------------------------------------\")\n",
    "dictObj2 = {'math':78, 'hindi':89, 'Roll No': 1023, 'english':80, 'science': 79}\n",
    "print(\"second dictionary is : \",dictObj2)\n",
    "print(\"--------------------------------------------\")\n",
    "print(\"After inserting element of second dictionary into firs : \\n\")\n",
    "dictObj1.update(dictObj2)\n",
    "print(dictObj1)"
   ]
  }
 ],
 "metadata": {
  "kernelspec": {
   "display_name": "Python 3",
   "language": "python",
   "name": "python3"
  },
  "language_info": {
   "codemirror_mode": {
    "name": "ipython",
    "version": 3
   },
   "file_extension": ".py",
   "mimetype": "text/x-python",
   "name": "python",
   "nbconvert_exporter": "python",
   "pygments_lexer": "ipython3",
   "version": "3.12.3"
  }
 },
 "nbformat": 4,
 "nbformat_minor": 2
}
