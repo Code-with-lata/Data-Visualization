{
 "cells": [
  {
   "cell_type": "code",
   "execution_count": 1,
   "metadata": {},
   "outputs": [
    {
     "name": "stdout",
     "output_type": "stream",
     "text": [
      "student data : \n",
      "{'stdid': 'std101', 'math': '78', 'stdname': 'Ashish Kumar', 'age': 12}\n"
     ]
    }
   ],
   "source": [
    "student = { 'stdid' :'std101','math' : '78','stdname' : 'Ashish Kumar', 'age' : 12}\n",
    "print(\"student data : \")\n",
    "print (student)"
   ]
  },
  {
   "cell_type": "code",
   "execution_count": 2,
   "metadata": {},
   "outputs": [
    {
     "name": "stdout",
     "output_type": "stream",
     "text": [
      "stdid math stdname age\n"
     ]
    }
   ],
   "source": [
    "print(*student)"
   ]
  },
  {
   "cell_type": "code",
   "execution_count": 3,
   "metadata": {},
   "outputs": [
    {
     "name": "stdout",
     "output_type": "stream",
     "text": [
      "stdid\n",
      "math\n",
      "stdname\n",
      "age\n"
     ]
    }
   ],
   "source": [
    "for key in student:\n",
    "    print(i)"
   ]
  },
  {
   "cell_type": "code",
   "execution_count": 23,
   "metadata": {},
   "outputs": [
    {
     "name": "stdout",
     "output_type": "stream",
     "text": [
      "std101 90 Ashish Kumar 12 80 80 "
     ]
    }
   ],
   "source": [
    "#how a value of element can be access\n",
    "for key in student:\n",
    "    print(student[key], end=\" \")"
   ]
  },
  {
   "cell_type": "code",
   "execution_count": 22,
   "metadata": {},
   "outputs": [
    {
     "name": "stdout",
     "output_type": "stream",
     "text": [
      "dictionary : \n",
      " {'stdid': 'std101', 'math': 90, 'stdname': 'Ashish Kumar', 'age': 12, 'English': 80, 'english': 80}\n"
     ]
    }
   ],
   "source": [
    "print(\"dictionary : \\n\" , student)"
   ]
  }
 ],
 "metadata": {
  "kernelspec": {
   "display_name": "Python 3",
   "language": "python",
   "name": "python3"
  },
  "language_info": {
   "codemirror_mode": {
    "name": "ipython",
    "version": 3
   },
   "file_extension": ".py",
   "mimetype": "text/x-python",
   "name": "python",
   "nbconvert_exporter": "python",
   "pygments_lexer": "ipython3",
   "version": "3.12.3"
  }
 },
 "nbformat": 4,
 "nbformat_minor": 2
}
