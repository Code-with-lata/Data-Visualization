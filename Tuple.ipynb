{
 "cells": [
  {
   "cell_type": "code",
   "execution_count": 4,
   "metadata": {},
   "outputs": [
    {
     "name": "stdout",
     "output_type": "stream",
     "text": [
      "(45, 56, 78, 29, 56, 78, 90, 28, 120, 200)\n"
     ]
    }
   ],
   "source": [
    "numbers = (45,56,78,29,56,78,90,28,120,200)\n",
    "print(numbers)"
   ]
  },
  {
   "cell_type": "markdown",
   "metadata": {},
   "source": [
    "numbers = (45,56,78,29,56,78,90,28,120,200)\n",
    "print(*numbers)"
   ]
  },
  {
   "cell_type": "code",
   "execution_count": 5,
   "metadata": {},
   "outputs": [
    {
     "name": "stdout",
     "output_type": "stream",
     "text": [
      "(45, 56, 78, 29, 56, 78, 90, 28, 120, 200)\n"
     ]
    }
   ],
   "source": [
    "numbers = (45,56,78,29,56,78,90,28,120,200)\n",
    "print(numbers)"
   ]
  },
  {
   "cell_type": "code",
   "execution_count": 6,
   "metadata": {},
   "outputs": [
    {
     "name": "stdout",
     "output_type": "stream",
     "text": [
      "45 56 78 29 56 78 90 28 120 200\n"
     ]
    }
   ],
   "source": [
    "print(*numbers)"
   ]
  },
  {
   "cell_type": "code",
   "execution_count": 8,
   "metadata": {},
   "outputs": [
    {
     "name": "stdout",
     "output_type": "stream",
     "text": [
      "45\n",
      "56\n",
      "78\n",
      "29\n",
      "56\n",
      "78\n",
      "90\n",
      "28\n",
      "120\n",
      "200\n"
     ]
    }
   ],
   "source": [
    "for element in numbers:\n",
    "    print(element)\n"
   ]
  },
  {
   "cell_type": "code",
   "execution_count": 9,
   "metadata": {},
   "outputs": [
    {
     "name": "stdout",
     "output_type": "stream",
     "text": [
      "45 56 78 29 56 78 90 28 120 200 "
     ]
    }
   ],
   "source": [
    "for element in numbers:\n",
    "    print(element, end=\" \")\n"
   ]
  },
  {
   "cell_type": "code",
   "execution_count": 11,
   "metadata": {},
   "outputs": [
    {
     "name": "stdout",
     "output_type": "stream",
     "text": [
      "the tuple is :/n (45, 56, 78, 29, 56, 78, 90, 28, 120, 200)\n",
      "fifth element : 56\n"
     ]
    }
   ],
   "source": [
    "print(\"the tuple is :/n\",numbers)\n",
    "print(\"fifth element :\" ,numbers[4])"
   ]
  },
  {
   "cell_type": "code",
   "execution_count": 12,
   "metadata": {},
   "outputs": [
    {
     "name": "stdout",
     "output_type": "stream",
     "text": [
      "The tuple is : (45, 56, 78, 29, 56, 78, 90, 28, 120, 200)\n",
      "fourth element from last : 90\n"
     ]
    }
   ],
   "source": [
    "#----4th element from last\n",
    "print(\"The tuple is :\",numbers)\n",
    "print(\"fourth element from last :\",numbers[-4])"
   ]
  },
  {
   "cell_type": "code",
   "execution_count": 14,
   "metadata": {},
   "outputs": [
    {
     "name": "stdout",
     "output_type": "stream",
     "text": [
      " The tuple is : (45, 56, 78, 29, 56, 78, 90, 28, 120, 200)\n",
      "45 56 78 29 56 78 90 28 120 200 "
     ]
    }
   ],
   "source": [
    "#display element of tuple in forward direction using the backward index\n",
    "print(\" The tuple is :\",numbers)\n",
    "for x in range(-len(numbers),0,+1):\n",
    "    print(numbers[x], end=\" \")"
   ]
  },
  {
   "cell_type": "code",
   "execution_count": 16,
   "metadata": {},
   "outputs": [
    {
     "name": "stdout",
     "output_type": "stream",
     "text": [
      " The tuple is : (45, 56, 78, 29, 56, 78, 90, 28, 120, 200)\n",
      "200 120 28 90 78 56 29 78 56 45 "
     ]
    }
   ],
   "source": [
    "#Display element of tuple in backward direction using forward index\n",
    "print(\" The tuple is :\",numbers)\n",
    "for x in range(len(numbers)-1,-1,-1):\n",
    "    print(numbers[x], end=\" \")"
   ]
  },
  {
   "cell_type": "code",
   "execution_count": 22,
   "metadata": {},
   "outputs": [
    {
     "name": "stdout",
     "output_type": "stream",
     "text": [
      " The tuple is : (45, 56, 78, 29, 56, 78, 90, 28, 120, 200)\n",
      "sum of the tuple :  780\n"
     ]
    }
   ],
   "source": [
    "#Display the sum of all the numbers of tuple\n",
    "print(\" The tuple is :\",numbers)\n",
    "print(\"sum of the tuple : \",sum(numbers))"
   ]
  },
  {
   "cell_type": "code",
   "execution_count": 25,
   "metadata": {},
   "outputs": [
    {
     "name": "stdout",
     "output_type": "stream",
     "text": [
      "the tuple is :  (45, 56, 78, 29, 56, 78, 90, 28, 120, 200)\n",
      "sum :  780\n"
     ]
    }
   ],
   "source": [
    "print(\"the tuple is : \",numbers)\n",
    "sum = 0\n",
    "for idx in range(0,len(numbers)):\n",
    "    sum += numbers[idx]\n",
    "\n",
    "print(\"sum : \",sum)    "
   ]
  },
  {
   "cell_type": "code",
   "execution_count": 28,
   "metadata": {},
   "outputs": [
    {
     "name": "stdout",
     "output_type": "stream",
     "text": [
      "[67]\n"
     ]
    }
   ],
   "source": [
    "first = ([2])\n",
    "first[0] = 67\n",
    "print(first)"
   ]
  }
 ],
 "metadata": {
  "kernelspec": {
   "display_name": "Python 3",
   "language": "python",
   "name": "python3"
  },
  "language_info": {
   "codemirror_mode": {
    "name": "ipython",
    "version": 3
   },
   "file_extension": ".py",
   "mimetype": "text/x-python",
   "name": "python",
   "nbconvert_exporter": "python",
   "pygments_lexer": "ipython3",
   "version": "3.12.3"
  }
 },
 "nbformat": 4,
 "nbformat_minor": 2
}
