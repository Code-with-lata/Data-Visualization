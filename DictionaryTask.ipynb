{
 "cells": [
  {
   "cell_type": "code",
   "execution_count": 9,
   "metadata": {},
   "outputs": [
    {
     "name": "stdout",
     "output_type": "stream",
     "text": [
      "{'std101': {'stdname': 'Ashish Kumar', 'standard': '10th', 'age': 15, 'hindi': 67, 'English': 89, 'Maths': 87, 'Science': 89, 'Computer': 90, 'Total': 422}, 'std102': {'stdname': 'Abhishek Kumar', 'standard': '10th', 'age': 14, 'hindi': 85, 'English': 45, 'Maths': 48, 'Science': 90, 'Computer': 45, 'Total': 313}, 'std103': {'stdname': 'Aman', 'standard': '10th', 'age': 15, 'hindi': 23, 'English': 56, 'Maths': 78, 'Science': 78, 'Computer': 67, 'Total': 302}, 'std104': {'stdname': 'Rahul', 'standard': '10th', 'age': 14, 'hindi': 45, 'English': 67, 'Maths': 45, 'Science': 45, 'Computer': 56, 'Total': 258}, 'std105': {'stdname': 'Ruby', 'standard': '10th', 'age': 13, 'hindi': 89, 'English': 67, 'Maths': 89, 'Science': 93, 'Computer': 65, 'Total': 403}, 'std106': {'stdname': 'Suman', 'standard': '10th', 'age': 13, 'hindi': 90, 'English': 46, 'Maths': 67, 'Science': 67, 'Computer': 67, 'Total': 337}, 'std107': {'stdname': 'Saurabh', 'standard': '10th', 'age': 15, 'hindi': 45, 'English': 23, 'Maths': 34, 'Science': 45, 'Computer': 34, 'Total': 181}, 'std108': {'stdname': 'Sumit', 'standard': '10th', 'age': 14, 'hindi': 23, 'English': 45, 'Maths': 67, 'Science': 78, 'Computer': 90, 'Total': 303}, 'std109': {'stdname': 'Kamlesh', 'standard': '10th', 'age': 15, 'hindi': 45, 'English': 56, 'Maths': 78, 'Science': 99, 'Computer': 67, 'Total': 345}, 'std110': {'stdname': 'Rohan', 'standard': '10th', 'age': 15, 'hindi': 34, 'English': 12, 'Maths': 24, 'Science': 45, 'Computer': 56, 'Total': 171}} "
     ]
    }
   ],
   "source": [
    "students_dict = {\n",
    "    \"std101\": {\"stdname\": \"Ashish Kumar\", \"standard\": \"10th\", \"age\": 15, \"hindi\": 67, \"English\": 89, \"Maths\": 87, \"Science\": 89, \"Computer\": 90, \"Total\": 422},\n",
    "    \"std102\": {\"stdname\": \"Abhishek Kumar\", \"standard\": \"10th\", \"age\": 14, \"hindi\": 85, \"English\": 45, \"Maths\": 48, \"Science\": 90, \"Computer\": 45, \"Total\": 313},\n",
    "    \"std103\": {\"stdname\": \"Aman\", \"standard\": \"10th\", \"age\": 15, \"hindi\": 23, \"English\": 56, \"Maths\": 78, \"Science\": 78, \"Computer\": 67, \"Total\": 302},\n",
    "    \"std104\": {\"stdname\": \"Rahul\", \"standard\": \"10th\", \"age\": 14, \"hindi\": 45, \"English\": 67, \"Maths\": 45, \"Science\": 45, \"Computer\": 56, \"Total\": 258},\n",
    "    \"std105\": {\"stdname\": \"Ruby\", \"standard\": \"10th\", \"age\": 13, \"hindi\": 89, \"English\": 67, \"Maths\": 89, \"Science\": 93, \"Computer\": 65, \"Total\": 403},\n",
    "    \"std106\": {\"stdname\": \"Suman\", \"standard\": \"10th\", \"age\": 13, \"hindi\": 90, \"English\": 46, \"Maths\": 67, \"Science\": 67, \"Computer\": 67, \"Total\": 337},\n",
    "    \"std107\": {\"stdname\": \"Saurabh\", \"standard\": \"10th\", \"age\": 15, \"hindi\": 45, \"English\": 23, \"Maths\": 34, \"Science\": 45, \"Computer\": 34, \"Total\": 181},\n",
    "    \"std108\": {\"stdname\": \"Sumit\", \"standard\": \"10th\", \"age\": 14, \"hindi\": 23, \"English\": 45, \"Maths\": 67, \"Science\": 78, \"Computer\": 90, \"Total\": 303},\n",
    "    \"std109\": {\"stdname\": \"Kamlesh\", \"standard\": \"10th\", \"age\": 15, \"hindi\": 45, \"English\": 56, \"Maths\": 78, \"Science\": 99, \"Computer\": 67, \"Total\": 345},\n",
    "    \"std110\": {\"stdname\": \"Rohan\", \"standard\": \"10th\", \"age\": 15, \"hindi\": 34, \"English\": 12, \"Maths\": 24, \"Science\": 45, \"Computer\": 56, \"Total\": 171}\n",
    "}\n",
    "\n",
    "print(students_dict, end=\" \")\n",
    "    "
   ]
  },
  {
   "cell_type": "code",
   "execution_count": 13,
   "metadata": {},
   "outputs": [
    {
     "name": "stdout",
     "output_type": "stream",
     "text": [
      "std101 std102 std103 std104 std105 std106 std107 std108 std109 std110\n"
     ]
    }
   ],
   "source": [
    "print(*students_dict)"
   ]
  },
  {
   "cell_type": "code",
   "execution_count": 10,
   "metadata": {},
   "outputs": [
    {
     "name": "stdout",
     "output_type": "stream",
     "text": [
      "Ashish Kumar\n",
      "Aman\n",
      "Rahul\n",
      "Ruby\n",
      "Kamlesh\n"
     ]
    }
   ],
   "source": [
    "#Display the name of student whose marks in English is grater than 50\n",
    "for student_id, details in students_dict.items():\n",
    "    if details[\"English\"] > 50:\n",
    "        print(details[\"stdname\"])\n",
    "\n"
   ]
  },
  {
   "cell_type": "code",
   "execution_count": 11,
   "metadata": {},
   "outputs": [],
   "source": [
    "#Display Student name and age of top four scorer of maths"
   ]
  },
  {
   "cell_type": "code",
   "execution_count": 12,
   "metadata": {},
   "outputs": [],
   "source": [
    "#Display name , id ,age of student who are bottom 3 scorer  in computer"
   ]
  }
 ],
 "metadata": {
  "kernelspec": {
   "display_name": "Python 3",
   "language": "python",
   "name": "python3"
  },
  "language_info": {
   "codemirror_mode": {
    "name": "ipython",
    "version": 3
   },
   "file_extension": ".py",
   "mimetype": "text/x-python",
   "name": "python",
   "nbconvert_exporter": "python",
   "pygments_lexer": "ipython3",
   "version": "3.12.3"
  }
 },
 "nbformat": 4,
 "nbformat_minor": 2
}
