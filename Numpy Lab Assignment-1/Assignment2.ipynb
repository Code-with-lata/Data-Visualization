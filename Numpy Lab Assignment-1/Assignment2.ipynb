{
 "cells": [
  {
   "cell_type": "code",
   "execution_count": 8,
   "metadata": {},
   "outputs": [
    {
     "name": "stdout",
     "output_type": "stream",
     "text": [
      "Hot Days:\n",
      "Day\n",
      "3\n",
      "6\n",
      "10\n",
      "Temperature (°C)\n",
      "36.8\n",
      "38.7\n",
      "37.2\n",
      "Cold Days:\n",
      "Day\n",
      "11\n",
      "12\n",
      "13\n",
      "Temperature (°C)\n",
      "4.5\n",
      "3.4\n",
      "2.5\n"
     ]
    }
   ],
   "source": [
    "# Suppose you have a dataset containing daily temperature readings for a city, and you\n",
    "# want to identify days with extreme temperature conditions. Find days where the\n",
    "# temperature either exceeded 35 degrees Celsius (hot day) or dropped below 5 degrees\n",
    "# Celsius (cold day).\n",
    "\n",
    "import numpy as np\n",
    "\n",
    "temperatures = np.array([32.5, 34.2, 36.8, 29.3, 31.0, 38.7, 23.1, 18.5, 22.8, 37.2,4.5,3.4,2.5])\n",
    "hot_days = temperatures > 35\n",
    "cold_days = temperatures <  5\n",
    "\n",
    "hot_day_indices = np.where(hot_days)[0] + 1 \n",
    "cold_day_indices = np.where(cold_days)[0] + 1  \n",
    "\n",
    "hot_temperatures = temperatures[hot_days]\n",
    "cold_temperatures = temperatures[cold_days]\n",
    "print(\"Hot Days:\")\n",
    "print(\"Day\")\n",
    "for day in hot_day_indices:\n",
    "    print(day)\n",
    "print(\"Temperature (°C)\")\n",
    "for temp in hot_temperatures:\n",
    "    print(temp)\n",
    "print(\"Cold Days:\")\n",
    "print(\"Day\")\n",
    "for day in cold_day_indices:\n",
    "    print(day)  \n",
    "print(\"Temperature (°C)\")\n",
    "for temp in cold_temperatures:\n",
    "    print(temp)\n",
    "\n",
    "        \n",
    "        \n",
    "    "
   ]
  },
  {
   "cell_type": "code",
   "execution_count": 3,
   "metadata": {},
   "outputs": [
    {
     "name": "stdout",
     "output_type": "stream",
     "text": [
      "Quarter Sales (in thousand of dollars) : [120 135 148 165]\n",
      "Quarter Sales (in thousand of dollars) : [180 155 168 190]\n",
      "Quarter Sales (in thousand of dollars) : [205 198 210 225]\n"
     ]
    }
   ],
   "source": [
    "# Suppose you have a dataset containing monthly sales data for a company, and you\n",
    "# want to split this data into quarterly reports for analysis and reporting purposes.\n",
    "\n",
    "import numpy as np\n",
    "monthly_sales = np.array([120, 135, 148, 165, 180, 155, 168, 190, 205, 198, 210, 225])\n",
    "\n",
    "m = np.split(monthly_sales,4)\n",
    "for i in m:\n",
    "    print(\"Quarter Sales (in thousand of dollars) :\",i)\n"
   ]
  },
  {
   "cell_type": "code",
   "execution_count": null,
   "metadata": {},
   "outputs": [],
   "source": [
    "# Suppose you have a dataset containing customer data, and you want to split this data\n",
    "# into two groups: one group for customers who made a purchase in the last 30 days and\n",
    "# another group for customers who haven't made a purchase in the last 30 days.\n"
   ]
  },
  {
   "cell_type": "code",
   "execution_count": null,
   "metadata": {},
   "outputs": [],
   "source": [
    "# Suppose you have two sets of employee data—one containing information about\n",
    "# full-time employees and another containing information about part-time employees. You\n",
    "# want to combine this data to create a comprehensive employee dataset for HR analysis.\n"
   ]
  }
 ],
 "metadata": {
  "kernelspec": {
   "display_name": "Python 3",
   "language": "python",
   "name": "python3"
  },
  "language_info": {
   "codemirror_mode": {
    "name": "ipython",
    "version": 3
   },
   "file_extension": ".py",
   "mimetype": "text/x-python",
   "name": "python",
   "nbconvert_exporter": "python",
   "pygments_lexer": "ipython3",
   "version": "3.12.3"
  }
 },
 "nbformat": 4,
 "nbformat_minor": 2
}
