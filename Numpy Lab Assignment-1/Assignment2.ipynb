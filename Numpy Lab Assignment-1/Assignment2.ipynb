{
 "cells": [
  {
   "cell_type": "code",
   "execution_count": 8,
   "metadata": {},
   "outputs": [
    {
     "name": "stdout",
     "output_type": "stream",
     "text": [
      "Hot Days:\n",
      "Day\n",
      "3\n",
      "6\n",
      "10\n",
      "Temperature (°C)\n",
      "36.8\n",
      "38.7\n",
      "37.2\n",
      "Cold Days:\n",
      "Day\n",
      "11\n",
      "12\n",
      "13\n",
      "Temperature (°C)\n",
      "4.5\n",
      "3.4\n",
      "2.5\n"
     ]
    }
   ],
   "source": [
    "# Suppose you have a dataset containing daily temperature readings for a city, and you\n",
    "# want to identify days with extreme temperature conditions. Find days where the\n",
    "# temperature either exceeded 35 degrees Celsius (hot day) or dropped below 5 degrees\n",
    "# Celsius (cold day).\n",
    "\n",
    "import numpy as np\n",
    "\n",
    "temperatures = np.array([32.5, 34.2, 36.8, 29.3, 31.0, 38.7, 23.1, 18.5, 22.8, 37.2,4.5,3.4,2.5])\n",
    "hot_days = temperatures > 35\n",
    "cold_days = temperatures <  5\n",
    "\n",
    "hot_day_indices = np.where(hot_days)[0] + 1 \n",
    "cold_day_indices = np.where(cold_days)[0] + 1  \n",
    "\n",
    "hot_temperatures = temperatures[hot_days]\n",
    "cold_temperatures = temperatures[cold_days]\n",
    "print(\"Hot Days:\")\n",
    "print(\"Day\")\n",
    "for day in hot_day_indices:\n",
    "    print(day)\n",
    "print(\"Temperature (°C)\")\n",
    "for temp in hot_temperatures:\n",
    "    print(temp)\n",
    "print(\"Cold Days:\")\n",
    "print(\"Day\")\n",
    "for day in cold_day_indices:\n",
    "    print(day)  \n",
    "print(\"Temperature (°C)\")\n",
    "for temp in cold_temperatures:\n",
    "    print(temp)\n",
    "\n",
    "        \n",
    "        \n",
    "    "
   ]
  },
  {
   "cell_type": "code",
   "execution_count": 4,
   "metadata": {},
   "outputs": [
    {
     "name": "stdout",
     "output_type": "stream",
     "text": [
      "Quarter Sales (in thousand of dollars) : [120 135 148]\n",
      "Quarter Sales (in thousand of dollars) : [165 180 155]\n",
      "Quarter Sales (in thousand of dollars) : [168 190 205]\n",
      "Quarter Sales (in thousand of dollars) : [198 210 225]\n"
     ]
    }
   ],
   "source": [
    "# Suppose you have a dataset containing monthly sales data for a company, and you\n",
    "# want to split this data into quarterly reports for analysis and reporting purposes.\n",
    "\n",
    "import numpy as np\n",
    "monthly_sales = np.array([120, 135, 148, 165, 180, 155, 168, 190, 205, 198, 210, 225])\n",
    "\n",
    "m = np.split(monthly_sales,4)\n",
    "for i in m:\n",
    "    print(\"Quarter Sales (in thousand of dollars) :\",i)\n"
   ]
  },
  {
   "cell_type": "code",
   "execution_count": 5,
   "metadata": {},
   "outputs": [
    {
     "name": "stdout",
     "output_type": "stream",
     "text": [
      "Active Customers (Last Purchase <= 30 days ago): [101 102 103 104 105]\n",
      "Inactive Customers (Last Purchase > 30 days ago): [106 107 108 109 110]\n"
     ]
    }
   ],
   "source": [
    "# Suppose you have a dataset containing customer data, and you want to split this data\n",
    "# into two groups: one group for customers who made a purchase in the last 30 days and\n",
    "# another group for customers who haven't made a purchase in the last 30 days.\n",
    "\n",
    "import numpy as np\n",
    "\n",
    "customer_ids = np.array([101, 102, 103, 104, 105, 106, 107, 108, 109, 110])\n",
    "last_purchase_days_ago = np.array([5, 15, 20, 25, 30, 35, 40, 45, 50, 55])\n",
    "\n",
    "purchased_last_30_days_mask = last_purchase_days_ago <= 30\n",
    "not_purchased_last_30_days_mask = last_purchase_days_ago > 30\n",
    "\n",
    "purchased_last_30_days = customer_ids[purchased_last_30_days_mask]\n",
    "not_purchased_last_30_days = customer_ids[not_purchased_last_30_days_mask]\n",
    "\n",
    "print(\"Active Customers (Last Purchase <= 30 days ago):\", purchased_last_30_days)\n",
    "print(\"Inactive Customers (Last Purchase > 30 days ago):\", not_purchased_last_30_days)"
   ]
  },
  {
   "cell_type": "code",
   "execution_count": 3,
   "metadata": {},
   "outputs": [
    {
     "name": "stdout",
     "output_type": "stream",
     "text": [
      "Combined Employee Data:\n",
      "\n",
      "Employee ID: 101, Name: John Doe, Type: Full-Time, Salary: 55000\n",
      "\n",
      "Employee ID: 102, Name: Jane Smith, Type: Full-Time, Salary: 60000\n",
      "\n",
      "Employee ID: 103, Name: Mike Johnson, Type: Full-Time, Salary: 52000\n",
      "\n",
      "Employee ID: 201, Name: Alice Brown, Type: Part-Time, Salary: 25000\n",
      "\n",
      "Employee ID: 202, Name: Bob Wilson, Type: Part-Time, Salary: 28000\n",
      "\n",
      "Employee ID: 203, Name: Emily Davis, Type: Part-Time, Salary: 22000\n",
      "\n"
     ]
    }
   ],
   "source": [
    "# Suppose you have two sets of employee data—one containing information about\n",
    "# full-time employees and another containing information about part-time employees. You\n",
    "# want to combine this data to create a comprehensive employee dataset for HR analysis.\n",
    "# Employee data for full-time employees.\n",
    "\n",
    "import numpy as np\n",
    "\n",
    "# Employee data for full-time employees\n",
    "full_time_employees = np.array([\n",
    "[101, 'John Doe', 'Full-Time', 55000],\n",
    "[102, 'Jane Smith', 'Full-Time', 60000],\n",
    "[103, 'Mike Johnson', 'Full-Time', 52000]\n",
    "])\n",
    "# Employee data for part-time employees\n",
    "part_time_employees = np.array([\n",
    "[201, 'Alice Brown', 'Part-Time', 25000],\n",
    "[202, 'Bob Wilson', 'Part-Time', 28000],\n",
    "[203, 'Emily Davis', 'Part-Time', 22000]\n",
    "])\n",
    "\n",
    "result = np.concatenate((full_time_employees,part_time_employees), axis=0)\n",
    "\n",
    "print(\"Combined Employee Data:\\n\")\n",
    "\n",
    "for employee in result:\n",
    "    print(f\"Employee ID: {employee[0]}, Name: {employee[1]}, Type: {employee[2]}, Salary: {employee[3]}\\n\")"
   ]
  },
  {
   "cell_type": "code",
   "execution_count": 1,
   "metadata": {},
   "outputs": [
    {
     "ename": "ValueError",
     "evalue": "setting an array element with a sequence. The requested array has an inhomogeneous shape after 1 dimensions. The detected shape was (3,) + inhomogeneous part.",
     "output_type": "error",
     "traceback": [
      "\u001b[1;31m---------------------------------------------------------------------------\u001b[0m",
      "\u001b[1;31mValueError\u001b[0m                                Traceback (most recent call last)",
      "Cell \u001b[1;32mIn[1], line 11\u001b[0m\n\u001b[0;32m      3\u001b[0m \u001b[38;5;28;01mimport\u001b[39;00m \u001b[38;5;21;01mnumpy\u001b[39;00m \u001b[38;5;28;01mas\u001b[39;00m \u001b[38;5;21;01mnp\u001b[39;00m\n\u001b[0;32m      5\u001b[0m \u001b[38;5;28mlist\u001b[39m \u001b[38;5;241m=\u001b[39m [\n\u001b[0;32m      6\u001b[0m np\u001b[38;5;241m.\u001b[39marray([\u001b[38;5;241m3\u001b[39m, \u001b[38;5;241m2\u001b[39m, \u001b[38;5;241m8\u001b[39m, \u001b[38;5;241m9\u001b[39m]),\n\u001b[0;32m      7\u001b[0m np\u001b[38;5;241m.\u001b[39marray([\u001b[38;5;241m4\u001b[39m, \u001b[38;5;241m12\u001b[39m, \u001b[38;5;241m34\u001b[39m, \u001b[38;5;241m25\u001b[39m, \u001b[38;5;241m78\u001b[39m]),\n\u001b[0;32m      8\u001b[0m np\u001b[38;5;241m.\u001b[39marray([\u001b[38;5;241m23\u001b[39m, \u001b[38;5;241m12\u001b[39m, \u001b[38;5;241m67\u001b[39m])\n\u001b[0;32m      9\u001b[0m ]\n\u001b[1;32m---> 11\u001b[0m M \u001b[38;5;241m=\u001b[39m \u001b[43mnp\u001b[49m\u001b[38;5;241;43m.\u001b[39;49m\u001b[43mmean\u001b[49m\u001b[43m(\u001b[49m\u001b[38;5;28;43mlist\u001b[39;49m\u001b[43m)\u001b[49m\n\u001b[0;32m     13\u001b[0m \u001b[38;5;28mprint\u001b[39m(\u001b[38;5;124m\"\u001b[39m\u001b[38;5;124mmean of Each array\u001b[39m\u001b[38;5;124m\"\u001b[39m, M)\n",
      "File \u001b[1;32mc:\\Users\\praja\\AppData\\Local\\Programs\\Python\\Python312\\Lib\\site-packages\\numpy\\_core\\fromnumeric.py:3596\u001b[0m, in \u001b[0;36mmean\u001b[1;34m(a, axis, dtype, out, keepdims, where)\u001b[0m\n\u001b[0;32m   3593\u001b[0m     \u001b[38;5;28;01melse\u001b[39;00m:\n\u001b[0;32m   3594\u001b[0m         \u001b[38;5;28;01mreturn\u001b[39;00m mean(axis\u001b[38;5;241m=\u001b[39maxis, dtype\u001b[38;5;241m=\u001b[39mdtype, out\u001b[38;5;241m=\u001b[39mout, \u001b[38;5;241m*\u001b[39m\u001b[38;5;241m*\u001b[39mkwargs)\n\u001b[1;32m-> 3596\u001b[0m \u001b[38;5;28;01mreturn\u001b[39;00m \u001b[43m_methods\u001b[49m\u001b[38;5;241;43m.\u001b[39;49m\u001b[43m_mean\u001b[49m\u001b[43m(\u001b[49m\u001b[43ma\u001b[49m\u001b[43m,\u001b[49m\u001b[43m \u001b[49m\u001b[43maxis\u001b[49m\u001b[38;5;241;43m=\u001b[39;49m\u001b[43maxis\u001b[49m\u001b[43m,\u001b[49m\u001b[43m \u001b[49m\u001b[43mdtype\u001b[49m\u001b[38;5;241;43m=\u001b[39;49m\u001b[43mdtype\u001b[49m\u001b[43m,\u001b[49m\n\u001b[0;32m   3597\u001b[0m \u001b[43m                      \u001b[49m\u001b[43mout\u001b[49m\u001b[38;5;241;43m=\u001b[39;49m\u001b[43mout\u001b[49m\u001b[43m,\u001b[49m\u001b[43m \u001b[49m\u001b[38;5;241;43m*\u001b[39;49m\u001b[38;5;241;43m*\u001b[39;49m\u001b[43mkwargs\u001b[49m\u001b[43m)\u001b[49m\n",
      "File \u001b[1;32mc:\\Users\\praja\\AppData\\Local\\Programs\\Python\\Python312\\Lib\\site-packages\\numpy\\_core\\_methods.py:111\u001b[0m, in \u001b[0;36m_mean\u001b[1;34m(a, axis, dtype, out, keepdims, where)\u001b[0m\n\u001b[0;32m    110\u001b[0m \u001b[38;5;28;01mdef\u001b[39;00m \u001b[38;5;21m_mean\u001b[39m(a, axis\u001b[38;5;241m=\u001b[39m\u001b[38;5;28;01mNone\u001b[39;00m, dtype\u001b[38;5;241m=\u001b[39m\u001b[38;5;28;01mNone\u001b[39;00m, out\u001b[38;5;241m=\u001b[39m\u001b[38;5;28;01mNone\u001b[39;00m, keepdims\u001b[38;5;241m=\u001b[39m\u001b[38;5;28;01mFalse\u001b[39;00m, \u001b[38;5;241m*\u001b[39m, where\u001b[38;5;241m=\u001b[39m\u001b[38;5;28;01mTrue\u001b[39;00m):\n\u001b[1;32m--> 111\u001b[0m     arr \u001b[38;5;241m=\u001b[39m \u001b[43masanyarray\u001b[49m\u001b[43m(\u001b[49m\u001b[43ma\u001b[49m\u001b[43m)\u001b[49m\n\u001b[0;32m    113\u001b[0m     is_float16_result \u001b[38;5;241m=\u001b[39m \u001b[38;5;28;01mFalse\u001b[39;00m\n\u001b[0;32m    115\u001b[0m     rcount \u001b[38;5;241m=\u001b[39m _count_reduce_items(arr, axis, keepdims\u001b[38;5;241m=\u001b[39mkeepdims, where\u001b[38;5;241m=\u001b[39mwhere)\n",
      "\u001b[1;31mValueError\u001b[0m: setting an array element with a sequence. The requested array has an inhomogeneous shape after 1 dimensions. The detected shape was (3,) + inhomogeneous part."
     ]
    }
   ],
   "source": [
    "# 1.How to find the mean of every NumPy array in the given list?\n",
    "\n",
    "import numpy as np\n",
    "\n",
    "list = [\n",
    "np.array([3, 2, 8, 9]),\n",
    "np.array([4, 12, 34, 25, 78]),\n",
    "np.array([23, 12, 67])\n",
    "]\n",
    "\n",
    "M = np.mean(list)\n",
    "\n",
    "print(\"mean of Each array\", M)"
   ]
  },
  {
   "cell_type": "code",
   "execution_count": 1,
   "metadata": {},
   "outputs": [
    {
     "name": "stdout",
     "output_type": "stream",
     "text": [
      "Printing the Original array : [1 2 3 4 5 6 7]\n",
      "Median of the array that contains odd no of element : 4.0\n"
     ]
    }
   ],
   "source": [
    "# 2.Compute the median of the flattened NumPy array\n",
    "\n",
    "import numpy as np\n",
    "x_odd = np.array([1, 2, 3, 4, 5, 6, 7])\n",
    "\n",
    "print(\"Printing the Original array :\",x_odd)\n",
    "\n",
    "median = np.median(x_odd)\n",
    "print(\"Median of the array that contains odd no of element :\",median)"
   ]
  },
  {
   "cell_type": "code",
   "execution_count": 2,
   "metadata": {},
   "outputs": [
    {
     "name": "stdout",
     "output_type": "stream",
     "text": [
      "arr : [20, 2, 7, 1, 34]\n",
      "std of arr : 12.576167937809991\n"
     ]
    }
   ],
   "source": [
    "# 3.Compute the standard deviation of the NumPy array.\n",
    "\n",
    "import numpy as np\n",
    "\n",
    "arr = [20, 2, 7, 1, 34]\n",
    "print(\"arr :\",arr)\n",
    "\n",
    "std = np.std(arr)\n",
    "print(\"std of arr :\",std)"
   ]
  },
  {
   "cell_type": "code",
   "execution_count": null,
   "metadata": {},
   "outputs": [],
   "source": [
    "# 4.Suppose you have a CSV file named 'house_prices.csv' with price information, and\n",
    "# you want to perform the following operations:\n",
    "# ● 1.Read the data from the CSV file into a NumPy array.\n",
    "# ● 2.Calculate the average of house prices.\n",
    "# ● 3.Identify house price above the average.\n",
    "# ● 4.Save the list of high prices to a new CSV file."
   ]
  }
 ],
 "metadata": {
  "kernelspec": {
   "display_name": "Python 3",
   "language": "python",
   "name": "python3"
  },
  "language_info": {
   "codemirror_mode": {
    "name": "ipython",
    "version": 3
   },
   "file_extension": ".py",
   "mimetype": "text/x-python",
   "name": "python",
   "nbconvert_exporter": "python",
   "pygments_lexer": "ipython3",
   "version": "3.12.3"
  }
 },
 "nbformat": 4,
 "nbformat_minor": 2
}
