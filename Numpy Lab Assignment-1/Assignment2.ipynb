{
 "cells": [
  {
   "cell_type": "code",
   "execution_count": 21,
   "metadata": {},
   "outputs": [
    {
     "name": "stdout",
     "output_type": "stream",
     "text": [
      "Hot Days:\n",
      "Day        Temperature (°C)\n",
      "3          36.8\n",
      "6          38.7\n",
      "10          37.2\n",
      "\n",
      "Cold Days:\n",
      "Day        Temperature (°C)\n",
      "11          4.5\n",
      "12          3.4\n",
      "13          2.5\n"
     ]
    }
   ],
   "source": [
    "#  Suppose you have a dataset containing daily temperature readings for a city, and you\n",
    "# want to identify days with extreme temperature conditions. Find days where the\n",
    "# temperature either exceeded 35 degrees Celsius (hot day) or dropped below 5 degrees\n",
    "# Celsius (cold day).\n",
    "\n",
    "import numpy as np\n",
    "\n",
    "temperatures = np.array([32.5, 34.2, 36.8, 29.3, 31.0, 38.7, 23.1, 18.5, 22.8, 37.2, 4.5, 3.4, 2.5])\n",
    "\n",
    "hot_days = temperatures > 35\n",
    "cold_days = temperatures < 5\n",
    "\n",
    "\n",
    "hot_day_indices = np.where(hot_days)[0] + 1 \n",
    "cold_day_indices = np.where(cold_days)[0] + 1  \n",
    "\n",
    "hot_temperatures = temperatures[hot_days]\n",
    "cold_temperatures = temperatures[cold_days]\n",
    "\n",
    "print(\"Hot Days:\")\n",
    "print(\"Day       \" , \"Temperature (°C)\")\n",
    "for i in range(len(hot_day_indices)):\n",
    "    print(hot_day_indices[i],\"        \",hot_temperatures[i])\n",
    "\n",
    "print(\"\\nCold Days:\")\n",
    "print(\"Day       \" , \"Temperature (°C)\")\n",
    "for i in range(len(cold_day_indices)):\n",
    "    print(cold_day_indices[i],\"        \",cold_temperatures[i])\n"
   ]
  },
  {
   "cell_type": "code",
   "execution_count": 3,
   "metadata": {},
   "outputs": [
    {
     "name": "stdout",
     "output_type": "stream",
     "text": [
      "Quarter 1 Sales (in thousands of dollars): [120 135 148]\n",
      "Quarter 2 Sales (in thousands of dollars): [165 180 155]\n",
      "Quarter 3 Sales (in thousands of dollars): [168 190 205]\n",
      "Quarter 4 Sales (in thousands of dollars): [198 210 225]\n"
     ]
    }
   ],
   "source": [
    "# Suppose you have a dataset containing monthly sales data for a company, and you\n",
    "# want to split this data into quarterly reports for analysis and reporting purposes.\n",
    "\n",
    "import numpy as np\n",
    "monthly_sales = np.array([120, 135, 148, 165, 180, 155, 168, 190, 205, 198, 210, 225])\n",
    "\n",
    "quarterly_sales = monthly_sales.reshape(-1, 3)\n",
    "\n",
    "print(\"Quarter 1 Sales (in thousands of dollars):\",quarterly_sales[0])\n",
    "print(\"Quarter 2 Sales (in thousands of dollars):\",quarterly_sales[1])\n",
    "print(\"Quarter 3 Sales (in thousands of dollars):\",quarterly_sales[2])\n",
    "print(\"Quarter 4 Sales (in thousands of dollars):\",quarterly_sales[3])\n",
    "\n",
    "\n",
    " "
   ]
  },
  {
   "cell_type": "code",
   "execution_count": 5,
   "metadata": {},
   "outputs": [
    {
     "name": "stdout",
     "output_type": "stream",
     "text": [
      "Active Customers (Last Purchase <= 30 days ago): [101 102 103 104 105]\n",
      "Inactive Customers (Last Purchase > 30 days ago): [106 107 108 109 110]\n"
     ]
    }
   ],
   "source": [
    "# Suppose you have a dataset containing customer data, and you want to split this data\n",
    "# into two groups: one group for customers who made a purchase in the last 30 days and\n",
    "# another group for customers who haven't made a purchase in the last 30 days.\n",
    "\n",
    "import numpy as np\n",
    "\n",
    "customer_ids = np.array([101, 102, 103, 104, 105, 106, 107, 108, 109, 110])\n",
    "last_purchase_days_ago = np.array([5, 15, 20, 25, 30, 35, 40, 45, 50, 55])\n",
    "\n",
    "purchased_last_30_days_mask = last_purchase_days_ago <= 30\n",
    "not_purchased_last_30_days_mask = last_purchase_days_ago > 30\n",
    "\n",
    "purchased_last_30_days = customer_ids[purchased_last_30_days_mask]\n",
    "not_purchased_last_30_days = customer_ids[not_purchased_last_30_days_mask]\n",
    "\n",
    "print(\"Active Customers (Last Purchase <= 30 days ago):\", purchased_last_30_days)\n",
    "print(\"Inactive Customers (Last Purchase > 30 days ago):\", not_purchased_last_30_days)"
   ]
  },
  {
   "cell_type": "code",
   "execution_count": 3,
   "metadata": {},
   "outputs": [
    {
     "name": "stdout",
     "output_type": "stream",
     "text": [
      "Combined Employee Data:\n",
      "\n",
      "Employee ID: 101, Name: John Doe, Type: Full-Time, Salary: 55000\n",
      "\n",
      "Employee ID: 102, Name: Jane Smith, Type: Full-Time, Salary: 60000\n",
      "\n",
      "Employee ID: 103, Name: Mike Johnson, Type: Full-Time, Salary: 52000\n",
      "\n",
      "Employee ID: 201, Name: Alice Brown, Type: Part-Time, Salary: 25000\n",
      "\n",
      "Employee ID: 202, Name: Bob Wilson, Type: Part-Time, Salary: 28000\n",
      "\n",
      "Employee ID: 203, Name: Emily Davis, Type: Part-Time, Salary: 22000\n",
      "\n"
     ]
    }
   ],
   "source": [
    "# Suppose you have two sets of employee data—one containing information about\n",
    "# full-time employees and another containing information about part-time employees. You\n",
    "# want to combine this data to create a comprehensive employee dataset for HR analysis.\n",
    "# Employee data for full-time employees.\n",
    "\n",
    "import numpy as np\n",
    "\n",
    "# Employee data for full-time employees\n",
    "full_time_employees = np.array([\n",
    "[101, 'John Doe', 'Full-Time', 55000],\n",
    "[102, 'Jane Smith', 'Full-Time', 60000],\n",
    "[103, 'Mike Johnson', 'Full-Time', 52000]\n",
    "])\n",
    "# Employee data for part-time employees\n",
    "part_time_employees = np.array([\n",
    "[201, 'Alice Brown', 'Part-Time', 25000],\n",
    "[202, 'Bob Wilson', 'Part-Time', 28000],\n",
    "[203, 'Emily Davis', 'Part-Time', 22000]\n",
    "])\n",
    "\n",
    "result = np.concatenate((full_time_employees,part_time_employees), axis=0)\n",
    "\n",
    "print(\"Combined Employee Data:\\n\")\n",
    "\n",
    "for employee in result:\n",
    "    print(f\"Employee ID: {employee[0]}, Name: {employee[1]}, Type: {employee[2]}, Salary: {employee[3]}\\n\")"
   ]
  },
  {
   "cell_type": "code",
   "execution_count": 16,
   "metadata": {},
   "outputs": [
    {
     "name": "stdout",
     "output_type": "stream",
     "text": [
      "mean of each array :\n",
      "5.5 30.6 34.0 "
     ]
    }
   ],
   "source": [
    "# # 1.How to find the mean of every NumPy array in the given list?\n",
    "\n",
    "import numpy as np\n",
    "\n",
    "list = [\n",
    "np.array([3, 2, 8, 9]),\n",
    "np.array([4, 12, 34, 25, 78]),\n",
    "np.array([23, 12, 67])\n",
    "]\n",
    "print(\"mean of each array :\")\n",
    "for i in list:\n",
    "    mean = np.mean(i)\n",
    "  \n",
    "    print( mean,end=\" \")\n",
    "\n"
   ]
  },
  {
   "cell_type": "code",
   "execution_count": 1,
   "metadata": {},
   "outputs": [
    {
     "name": "stdout",
     "output_type": "stream",
     "text": [
      "Printing the Original array : [1 2 3 4 5 6 7]\n",
      "Median of the array that contains odd no of element : 4.0\n"
     ]
    }
   ],
   "source": [
    "# 2.Compute the median of the flattened NumPy array\n",
    "\n",
    "import numpy as np\n",
    "x_odd = np.array([1, 2, 3, 4, 5, 6, 7])\n",
    "\n",
    "print(\"Printing the Original array :\",x_odd)\n",
    "\n",
    "median = np.median(x_odd)\n",
    "print(\"Median of the array that contains odd no of element :\",median)"
   ]
  },
  {
   "cell_type": "code",
   "execution_count": 19,
   "metadata": {},
   "outputs": [
    {
     "name": "stdout",
     "output_type": "stream",
     "text": [
      "arr : [20, 2, 7, 1, 34]\n",
      "std of arr : 12.576167937809991\n",
      "More precision with float32\n",
      "std of arr : 12.576168\n",
      "More precision with float64\n",
      "std of arr : 12.576167937809991\n"
     ]
    }
   ],
   "source": [
    "# 3.Compute the standard deviation of the NumPy array.\n",
    "\n",
    "import numpy as np\n",
    "\n",
    "arr1 = [20, 2, 7, 1, 34]\n",
    "print(\"arr :\",arr1)\n",
    "\n",
    "std = np.std(arr1)\n",
    "print(\"std of arr :\",std)\n",
    "\n",
    "arr = np.array(arr1 , dtype = np.float32)\n",
    "std = np.std(arr)\n",
    "print(\"More precision with float32\")\n",
    "print(\"std of arr :\",std)\n",
    "\n",
    "arr = np.array(arr1 , dtype = np.float64)\n",
    "std = np.std(arr)\n",
    "print(\"More precision with float64\")\n",
    "print(\"std of arr :\",std)"
   ]
  },
  {
   "cell_type": "code",
   "execution_count": 20,
   "metadata": {},
   "outputs": [
    {
     "name": "stdout",
     "output_type": "stream",
     "text": [
      "Average House Price: 513932.17\n",
      "[771155. 744167. 832180. 621430. 999159. 887201. 818315. 876997. 891743.\n",
      " 521909. 586232. 600186. 970910. 754811. 627035. 748143. 552366. 691723.\n",
      " 655839. 628178. 665894. 589492. 573254. 765987. 798361. 831912. 517113.\n",
      " 877089. 748531. 778843. 672843. 903591. 996942. 704365. 922352. 560337.\n",
      " 824839. 905889. 559773. 864469. 538974. 661353. 723587. 635822. 587879.\n",
      " 664685. 882038.]\n"
     ]
    }
   ],
   "source": [
    "# 4.Suppose you have a CSV file named 'house_prices.csv' with price information, and\n",
    "# you want to perform the following operations:\n",
    "# ● 1.Read the data from the CSV file into a NumPy array.\n",
    "# ● 2.Calculate the average of house prices.\n",
    "# ● 3.Identify house price above the average.\n",
    "# ● 4.Save the list of high prices to a new CSV file.\n",
    "\n",
    "import numpy as np\n",
    "\n",
    "house_prices = np.genfromtxt('house_prices.csv', delimiter=',', skip_header=1, usecols=0)\n",
    "\n",
    "\n",
    "average_price = np.mean(house_prices)\n",
    "print(f\"Average House Price: {average_price}\")\n",
    "\n",
    "high_prices = house_prices[house_prices > average_price]\n",
    "print(high_prices)\n",
    "np.savetxt('high_house_prices.csv', high_prices, delimiter=',', header='price',fmt='%.2f')"
   ]
  }
 ],
 "metadata": {
  "kernelspec": {
   "display_name": "Python 3",
   "language": "python",
   "name": "python3"
  },
  "language_info": {
   "codemirror_mode": {
    "name": "ipython",
    "version": 3
   },
   "file_extension": ".py",
   "mimetype": "text/x-python",
   "name": "python",
   "nbconvert_exporter": "python",
   "pygments_lexer": "ipython3",
   "version": "3.12.3"
  }
 },
 "nbformat": 4,
 "nbformat_minor": 2
}
