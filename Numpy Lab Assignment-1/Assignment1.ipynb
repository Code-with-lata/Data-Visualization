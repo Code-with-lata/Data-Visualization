{
 "cells": [
  {
   "cell_type": "code",
   "execution_count": 1,
   "metadata": {},
   "outputs": [
    {
     "name": "stdout",
     "output_type": "stream",
     "text": [
      "[1 2 3 4]\n"
     ]
    }
   ],
   "source": [
    "# Convert the below list into numpy array then display tha array \n",
    "# input: my_list = [1,2,3,4,5]\n",
    "\n",
    "import numpy as np\n",
    "\n",
    "# input data\n",
    "my_list = [1,2,3,4]\n",
    "\n",
    "my_array = np.array(my_list)\n",
    "\n",
    "# output\n",
    "print(my_array)"
   ]
  },
  {
   "cell_type": "code",
   "execution_count": 2,
   "metadata": {},
   "outputs": [
    {
     "name": "stdout",
     "output_type": "stream",
     "text": [
      "[1 2 3 4]\n",
      "First element: 1\n",
      "Last element: 4\n",
      "updated array : [2 4 6 8]\n"
     ]
    }
   ],
   "source": [
    "# Convert the below list into a numpy array then display the array then display the first and last index and than multiply each element by 2 and \n",
    "# display the result \n",
    "\n",
    "import numpy as np\n",
    "\n",
    "# input data\n",
    "my_list = [1,2,3,4]\n",
    "\n",
    "my_array = np.array(my_list)\n",
    "\n",
    "print(my_array)\n",
    "\n",
    "print(\"First element:\", my_array[0])\n",
    "print(\"Last element:\", my_array[-1])\n",
    "\n",
    "# Multiply each element by 2\n",
    "multiplied_array = my_array * 2\n",
    "\n",
    "print(\"updated array :\",multiplied_array)\n"
   ]
  },
  {
   "cell_type": "code",
   "execution_count": 3,
   "metadata": {},
   "outputs": [
    {
     "name": "stdout",
     "output_type": "stream",
     "text": [
      "Print 10 zeros in array : [0. 0. 0. 0. 0. 0. 0. 0. 0. 0.]\n",
      "Print 10 ones in array : [1. 1. 1. 1. 1. 1. 1. 1. 1. 1.]\n",
      "Print 10 fives in array : [5. 5. 5. 5. 5. 5. 5. 5. 5. 5.]\n"
     ]
    }
   ],
   "source": [
    "# Write a numpy program to create an array of 10 zero,10 once,10 fives.\n",
    "\n",
    "import numpy as np\n",
    "arr = np.zeros((10)) \n",
    "# 10 zeros\n",
    "print(\"Print 10 zeros in array :\",arr)\n",
    "\n",
    "arr = np.zeros((10)) +1\n",
    "# 10 ones\n",
    "print(\"Print 10 ones in array :\",arr)\n",
    "\n",
    "arr = np.zeros((10)) +5\n",
    "# 10 five\n",
    "print(\"Print 10 fives in array :\",arr)"
   ]
  },
  {
   "cell_type": "code",
   "execution_count": 4,
   "metadata": {},
   "outputs": [
    {
     "name": "stdout",
     "output_type": "stream",
     "text": [
      "[[ 2  3  4]\n",
      " [ 5  6  7]\n",
      " [ 8  9 10]]\n"
     ]
    }
   ],
   "source": [
    "# Write a numpy program to create a 3*3 matrix with values ranging from 2 to 10.\n",
    "\n",
    "import numpy as np\n",
    "\n",
    "matrix = np.arange(2, 11).reshape(3, 3)\n",
    "\n",
    "# Print the matrix\n",
    "print(matrix)\n"
   ]
  }
 ],
 "metadata": {
  "kernelspec": {
   "display_name": "Python 3",
   "language": "python",
   "name": "python3"
  },
  "language_info": {
   "codemirror_mode": {
    "name": "ipython",
    "version": 3
   },
   "file_extension": ".py",
   "mimetype": "text/x-python",
   "name": "python",
   "nbconvert_exporter": "python",
   "pygments_lexer": "ipython3",
   "version": "3.12.3"
  }
 },
 "nbformat": 4,
 "nbformat_minor": 2
}
